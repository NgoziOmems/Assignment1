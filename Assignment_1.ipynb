{
 "cells": [
  {
   "cell_type": "code",
   "execution_count": null,
   "metadata": {
    "colab": {
     "base_uri": "https://localhost:8080/"
    },
    "id": "s4cwIkQP3Be-",
    "outputId": "235b63aa-2974-4618-e94e-c9b1f6148f67"
   },
   "outputs": [
    {
     "name": "stdout",
     "output_type": "stream",
     "text": [
      "10\n",
      "10\n",
      "14.0\n",
      "10.7\n",
      "1.5\n",
      "11\n",
      "14\n",
      "11\n",
      "11\n",
      "20\n"
     ]
    }
   ],
   "source": [
    "#Addition Operator\n",
    "print(4+6)\n",
    "print(3+7)\n",
    "print(5+9.0)\n",
    "print(7.2+3.5)\n",
    "print(1+0.5)\n",
    "print(4+7)\n",
    "print(8+6)\n",
    "print(3+8)\n",
    "print(9+2)\n",
    "print(10+10)"
   ]
  },
  {
   "cell_type": "markdown",
   "metadata": {
    "id": "mQjBUKtoVzeJ"
   },
   "source": []
  },
  {
   "cell_type": "code",
   "execution_count": null,
   "metadata": {
    "colab": {
     "base_uri": "https://localhost:8080/"
    },
    "id": "_Hnnn6hv4X6U",
    "outputId": "0d1ab71c-a529-4d69-fa05-143c1bf3d96e"
   },
   "outputs": [
    {
     "name": "stdout",
     "output_type": "stream",
     "text": [
      "1\n",
      "1\n",
      "4\n",
      "-12\n",
      "3\n",
      "-4.8\n",
      "-10\n",
      "-2\n",
      "6\n",
      "-2\n"
     ]
    }
   ],
   "source": [
    "#Subtraction Operator\n",
    "print(2-1)\n",
    "print(4-3)\n",
    "print(7-3)\n",
    "print(-5-7)\n",
    "print(9-6)\n",
    "print(0.5-5.3)\n",
    "print(-1-9)\n",
    "print(5-7)\n",
    "print(8-2)\n",
    "print(4-6)\n"
   ]
  },
  {
   "cell_type": "code",
   "execution_count": null,
   "metadata": {
    "colab": {
     "base_uri": "https://localhost:8080/"
    },
    "id": "5Wy0GkKeV5sv",
    "outputId": "7375a3d1-9a09-44d6-a9a3-2fb6c3387cf9"
   },
   "outputs": [
    {
     "name": "stdout",
     "output_type": "stream",
     "text": [
      "30\n"
     ]
    }
   ],
   "source": [
    "l=5\n",
    "b=6\n",
    "area=l * b\n",
    "print(area)"
   ]
  },
  {
   "cell_type": "code",
   "execution_count": null,
   "metadata": {
    "colab": {
     "base_uri": "https://localhost:8080/"
    },
    "id": "gDBV8OzO6DDT",
    "outputId": "b49e2b3d-36d9-4527-e22e-1f5d6439f0eb"
   },
   "outputs": [
    {
     "name": "stdout",
     "output_type": "stream",
     "text": [
      "0.75\n",
      "5.0\n",
      "7.0\n",
      "0.4\n",
      "2.0\n",
      "2.0\n",
      "1.0\n",
      "0.0\n",
      "2.0\n",
      "2.0\n"
     ]
    }
   ],
   "source": [
    "#Division Operator\n",
    "print(3/4)\n",
    "print(10/2)\n",
    "print(7/1)\n",
    "print(2/5)\n",
    "print(8/4)\n",
    "print(15/7.5)\n",
    "print(10/10)\n",
    "print(0/4)\n",
    "print(5/2.5)\n",
    "print(6/3)"
   ]
  },
  {
   "cell_type": "code",
   "execution_count": null,
   "metadata": {
    "colab": {
     "base_uri": "https://localhost:8080/"
    },
    "id": "bvH13oPk69ev",
    "outputId": "95cce020-018d-4ea3-e3c9-fba1c5ba701d"
   },
   "outputs": [
    {
     "name": "stdout",
     "output_type": "stream",
     "text": [
      "12\n",
      "20\n",
      "11.25\n",
      "58.800000000000004\n",
      "57.0\n",
      "5.0\n",
      "45\n",
      "28.8\n",
      "27\n",
      "20\n"
     ]
    }
   ],
   "source": [
    "#Multiplication Operator\n",
    "print(3*4)\n",
    "print(4*5)\n",
    "print(2.5*4.5)\n",
    "print(7*8.4)\n",
    "print(6*9.5)\n",
    "print(0.5*10)\n",
    "print(9*5)\n",
    "print(6.4*4.5)\n",
    "print(3*9)\n",
    "print(10*2)"
   ]
  },
  {
   "cell_type": "code",
   "execution_count": null,
   "metadata": {
    "colab": {
     "base_uri": "https://localhost:8080/"
    },
    "id": "XlJlxjoD8B5N",
    "outputId": "1a58796a-5979-4e0c-8817-3ee937d27759"
   },
   "outputs": [
    {
     "name": "stdout",
     "output_type": "stream",
     "text": [
      "3\n",
      "3\n",
      "2\n",
      "4\n",
      "0\n",
      "7\n",
      "2\n",
      "2\n",
      "4\n",
      "2\n"
     ]
    }
   ],
   "source": [
    "#Modulus Operator\n",
    "print(3%5)\n",
    "print(3%4)\n",
    "print(10%4)\n",
    "print(28%6)\n",
    "print(4%2)\n",
    "print(15%8)\n",
    "print(34%16)\n",
    "print(8%3)\n",
    "print(24%5)\n",
    "print(2%10)\n"
   ]
  },
  {
   "cell_type": "code",
   "execution_count": null,
   "metadata": {
    "colab": {
     "base_uri": "https://localhost:8080/"
    },
    "id": "pYd6sTQ78a9A",
    "outputId": "048c7241-500b-4e1b-fa22-581475f6e107"
   },
   "outputs": [
    {
     "name": "stdout",
     "output_type": "stream",
     "text": [
      "0\n",
      "2\n",
      "2\n",
      "2.0\n",
      "4.0\n",
      "3\n",
      "4.0\n",
      "-4.0\n",
      "2\n",
      "3.0\n"
     ]
    }
   ],
   "source": [
    "#Floor Operator\n",
    "print(3//4)\n",
    "print(10//4)\n",
    "print(8//3)\n",
    "print(6//3.0)\n",
    "print(9//2.0)\n",
    "print(7//2)\n",
    "print(6//1.5)\n",
    "print(6//-1.5)\n",
    "print(13//6)\n",
    "print(12//4.0)"
   ]
  },
  {
   "cell_type": "code",
   "execution_count": null,
   "metadata": {
    "colab": {
     "base_uri": "https://localhost:8080/"
    },
    "id": "Ku12T3Yq-YmR",
    "outputId": "6087736a-1ac7-4f73-c73c-a73bc02a776f"
   },
   "outputs": [
    {
     "name": "stdout",
     "output_type": "stream",
     "text": [
      "1\n",
      "125\n",
      "128\n",
      "729\n",
      "-729\n",
      "1024\n",
      "512\n",
      "9536.7431640625\n",
      "1000\n",
      "1296\n"
     ]
    }
   ],
   "source": [
    "#Power of(**) Operator\n",
    "print(1**7)\n",
    "print(5**3)\n",
    "print(2**7)\n",
    "print(9**3)\n",
    "print(-9**3)\n",
    "print(4**5)\n",
    "print(8**3)\n",
    "print(2.5**10)\n",
    "print(10**3)\n",
    "print(6**4)"
   ]
  },
  {
   "cell_type": "code",
   "execution_count": null,
   "metadata": {
    "colab": {
     "base_uri": "https://localhost:8080/"
    },
    "id": "0TxlSOI-_W2a",
    "outputId": "b9eee163-f54b-4a97-eed2-e53728f6f066"
   },
   "outputs": [
    {
     "name": "stdout",
     "output_type": "stream",
     "text": [
      "True\n",
      "False\n",
      "True\n",
      "False\n",
      "True\n",
      "True\n",
      "True\n",
      "False\n",
      "True\n",
      "True\n"
     ]
    }
   ],
   "source": [
    "#Equality Operator\n",
    "age=25\n",
    "print(age==25)\n",
    "print(3==5)\n",
    "print(4==4.0)\n",
    "print(5.2==20/4)\n",
    "print(28==7*4)\n",
    "print(8==2**3)\n",
    "print(1==3/3)\n",
    "print(2==10/4)\n",
    "print(6**3==216)\n",
    "print(2**8==256)"
   ]
  },
  {
   "cell_type": "code",
   "execution_count": null,
   "metadata": {
    "colab": {
     "base_uri": "https://localhost:8080/"
    },
    "id": "vVP82cnDCKvk",
    "outputId": "7d188bac-4fc1-4ea1-fd2b-e9f0efece0cc"
   },
   "outputs": [
    {
     "name": "stdout",
     "output_type": "stream",
     "text": [
      "False\n",
      "True\n",
      "False\n",
      "True\n",
      "True\n",
      "True\n",
      "False\n",
      "True\n",
      "True\n",
      "False\n"
     ]
    }
   ],
   "source": [
    "#Logical Operators\n",
    "print(3>5)\n",
    "print(4<7)\n",
    "print(4>=7 and 7<=10)\n",
    "print(6>=3) and (5<=8)\n",
    "print(4>=7 or 7<=10)\n",
    "print(6>=3) or (5>=8)\n",
    "print(5!=5)\n",
    "print(10!=9)\n",
    "print(10!=10 or 7!=2.5)\n",
    "print(3!=3 and 6!=9)"
   ]
  },
  {
   "cell_type": "code",
   "execution_count": null,
   "metadata": {
    "colab": {
     "base_uri": "https://localhost:8080/"
    },
    "id": "4OZIkVgdFhhm",
    "outputId": "eec5c133-9aeb-4755-b68f-82d116cba600"
   },
   "outputs": [
    {
     "name": "stdout",
     "output_type": "stream",
     "text": [
      "False\n",
      "True\n",
      "True\n",
      "False\n",
      "False\n",
      "True\n",
      "True\n",
      "False\n",
      "True\n",
      "False\n"
     ]
    }
   ],
   "source": [
    "#Membership Operator\n",
    "my_name= \"Ngozika\"\n",
    "print(\"m\" in my_name)\n",
    "print(\"m\" not in my_name)\n",
    "print(\"z\" in my_name)\n",
    "print(\"z\" not in my_name)\n",
    "print(\"e\" in my_name)\n",
    "print(\"e\" not in my_name)\n",
    "print(\"o\" in my_name)\n",
    "print(\"o\" not in my_name)\n",
    "print(\"g\" in my_name)\n",
    "print(\"g\" not in my_name)\n"
   ]
  }
 ],
 "metadata": {
  "colab": {
   "provenance": []
  },
  "kernelspec": {
   "display_name": "Python 3 (ipykernel)",
   "language": "python",
   "name": "python3"
  },
  "language_info": {
   "codemirror_mode": {
    "name": "ipython",
    "version": 3
   },
   "file_extension": ".py",
   "mimetype": "text/x-python",
   "name": "python",
   "nbconvert_exporter": "python",
   "pygments_lexer": "ipython3",
   "version": "3.11.5"
  }
 },
 "nbformat": 4,
 "nbformat_minor": 1
}
